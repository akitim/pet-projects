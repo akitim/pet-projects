{
  "cells": [
    {
      "cell_type": "markdown",
      "metadata": {
        "id": "view-in-github",
        "colab_type": "text"
      },
      "source": [
        "<a href=\"https://colab.research.google.com/github/akitim/pet-projects/blob/master/miscellaneous.ipynb\" target=\"_parent\"><img src=\"https://colab.research.google.com/assets/colab-badge.svg\" alt=\"Open In Colab\"/></a>"
      ]
    },
    {
      "cell_type": "markdown",
      "source": [
        "### Из статьи на хабре по [R.SPSS](https://habr.com/ru/post/92135/)"
      ],
      "metadata": {
        "id": "LiW__hLW3usQ"
      }
    },
    {
      "cell_type": "code",
      "source": [
        "#> x=runif(10000,0,0.5)\n",
        "#> y=runif(10000,0,3)\n",
        "#> t=y<3*exp(-3*x)\n",
        "#> u=x[t]\n",
        "#> v=y[t]\n",
        "#> plot(u,v)\n",
        "#> i=0.5*3*length(u)/10000\n",
        "\n",
        "import numpy as np\n",
        "import matplotlib.pyplot as plt\n",
        "x = np.random.rand(10000)\n",
        "y = np.random.rand(10000)\n",
        "t = y < 3*np.exp(-3*x)\n",
        "u = x[t]\n",
        "v = y[t]\n",
        "plt.scatter(u, v)\n",
        "u.shape\n",
        "i = 0.5 * 3 * len(u) / 10000\n",
        "i"
      ],
      "metadata": {
        "colab": {
          "base_uri": "https://localhost:8080/",
          "height": 215
        },
        "id": "7GzODRfsQUtN",
        "outputId": "6e9350e3-ebe4-4cd3-cbdb-0e0047f499a8"
      },
      "execution_count": null,
      "outputs": [
        {
          "output_type": "execute_result",
          "data": {
            "text/plain": [
              "0.96255"
            ]
          },
          "metadata": {},
          "execution_count": 1
        },
        {
          "output_type": "display_data",
          "data": {
            "text/plain": [
              "<Figure size 432x288 with 1 Axes>"
            ],
            "image/png": "[encoded data removed]"
          },
          "metadata": {
            "needs_background": "light"
          }
        }
      ]
    },
    {
      "cell_type": "markdown",
      "source": [
        "### 2 задачи из собеса по Data Science из статьи на [Хабре](https://habr.com/ru/company/ruvds/blog/705094/)"
      ],
      "metadata": {
        "id": "3obNoY314DBu"
      }
    },
    {
      "cell_type": "code",
      "source": [
        "#  Задача Medium-уровня: для заданной строки s \n",
        "#  найдите длину самой длинной подстроки\n",
        "#  без повторяющихся символов. Используйте язык Python.\n",
        "\n",
        "def find_longest_substr_no_repitions(s):\n",
        "\n",
        "    longest_dict = [] in \n",
        "    start = 0\n",
        "\n",
        "    for i in range(len(s) - 1):\n",
        "        \n",
        "        substr = s[start : i + 1] #if i < len(s) - 2 else s[start : i + 2]\n",
        "        if s[i + 1] in substr:\n",
        "            start += substr.index(s[i + 1]) + 1\n",
        "            longest_dict += [(substr, len(substr))]\n",
        "        elif i == len(s) - 2:\n",
        "            substr += s[i + 1]\n",
        "            longest_dict += [(substr, len(substr))]\n",
        "            \n",
        "    return dict(sorted(longest_dict, key = lambda x: x[1], reverse=True))\n",
        "\n",
        "s = 'gudojbhoggeggywuikjwjhgolkpiytmn[as'\n",
        "s = 'qqqqasaqdf'\n",
        "\n",
        "find_longest_substr_no_repitions(s)"
      ],
      "metadata": {
        "id": "gsR4ZRc285Qy",
        "colab": {
          "base_uri": "https://localhost:8080/"
        },
        "outputId": "c70e513d-90aa-4ad9-b6ae-59f14fc81fac"
      },
      "execution_count": null,
      "outputs": [
        {
          "output_type": "execute_result",
          "data": {
            "text/plain": [
              "{'saqdf': 5, 'qas': 3, 'q': 1}"
            ]
          },
          "metadata": {},
          "execution_count": 11
        }
      ]
    },
    {
      "cell_type": "code",
      "source": [
        "# Задача Hard-уровня: Имея две строки str1 и str2, вернуть самую короткую строку,\n",
        "# в которой есть как str1, так и str2 в качестве подпоследовательностей.\n",
        "# Если есть несколько допустимых строк, верните любую из них.\n",
        "# Строка s является подпоследовательностью строки t, если удаление некоторого\n",
        "# количества символов из t (возможно, 0) приводит к строке s.\n",
        "\n",
        "import numpy as np\n",
        "import random\n",
        "\n",
        "# str1 = 'grta'\n",
        "# str2 = 'ioua'\n",
        "# s = 'itrtdgfgowiwrrqubgwahuioyrrugttagjhdrgueag'\n",
        "\n",
        "s = ''.join([chr(random.randint(97, 122)) for i in range(100)])\n",
        "str1 = ''.join([chr(random.randint(97, 122)) for i in range(3)])\n",
        "str2 = ''.join([chr(random.randint(97, 122)) for i in range(2)])\n",
        "\n",
        "def debug_(it, part, sym, ind, symbol, elem, t):\n",
        "    line = '='*180\n",
        "    print (f\"iter №{it} part {part}: \\nsym:\" +\n",
        "           f\"{sym, ind}\\nsymbol: {symbol}\\nelem: {elem}\\n{t}\\n{line}\\n\\n\")\n",
        "    return None\n",
        "\n",
        "def findall_subseq(subseq, s):\n",
        "    '''Finds all substrings of s containing subseq'''\n",
        "    first_index = s.find(subseq[0])\n",
        "\n",
        "    # a list of lists (different occurences of a subseq\n",
        "    # in a string)  of tuples (symbol, index in a string) \n",
        "\n",
        "    t = [] \n",
        "    # it = 1\n",
        "    # symbol = 'none'\n",
        "\n",
        "    for ind, sym in enumerate(s):\n",
        "        if sym == subseq[0]: t += [[(sym, ind)]]\n",
        "# 1=============================================================================\n",
        "        # debug_(it, 1, sym, ind, symbol=symbol, elem=None, t=t)\n",
        "        # it += 1\n",
        "        \n",
        "        for index, symbol in enumerate(subseq[1:]):\n",
        "            if sym == symbol:\n",
        "                t_temp = t.copy()\n",
        "\n",
        "                for i, elem in enumerate(t_temp):\n",
        "                    if len(elem) == index + 1:\n",
        "                        elem += [(sym, ind)]\n",
        "# 2=============================================================================                      \n",
        "                        # debug_(it, 2, sym, ind, symbol, elem=None, t=t_temp)\n",
        "                        # it += 1\n",
        "                        \n",
        "                    elif len(elem) == index + 2:\n",
        "                        t = t_temp.copy()\n",
        "                        t += [elem[:-1] + [(sym, ind)]] #add new elements (arrays)\n",
        "# 3=============================================================================\n",
        "                        # debug_(it, 3, sym, ind, symbol, elem, t=t)\n",
        "                        # print (f'elem: {elem}\\n')\n",
        "                        t_temp = t.copy()\n",
        "\n",
        "    result = sorted(list(set(\n",
        "        [(ls[0][1], ls[-1][1]) for ls in t if len(ls) == len(subseq)]\n",
        "    )), key=lambda x: x[1] - x[0])\n",
        "\n",
        "    return result\n",
        "\n",
        "def shortest_substring(s, subseq1, subseq2):\n",
        "    '''Finds shortest substring of s containing both subseq1 and subseq2'''\n",
        "    ls1 = findall_subseq(subseq1, s)\n",
        "    ls2 = findall_subseq(subseq2, s)\n",
        "    (short, lng) = (ls1, ls2) if len(ls2) >= len(ls1) else (ls2, ls1)\n",
        "\n",
        "    res = ''\n",
        "    for init_s, fin_s in short:\n",
        "        for init_l, fin_l in lng:\n",
        "            if init_s <= init_l and fin_s >= fin_l:\n",
        "                res = s[init_s : fin_s + 1]\n",
        "                break\n",
        "            elif init_s > init_l and fin_s < fin_l:\n",
        "                res = s[init_l : fin_l + 1]\n",
        "                break\n",
        "    \n",
        "    res = ''.join(\n",
        "        [lt if lt not in str1 + str2 else lt.upper() for lt in res]\n",
        "    )\n",
        "\n",
        "    return res\n",
        "\n",
        "res1 = findall_subseq(str1, s)\n",
        "res2 = findall_subseq(str2, s)\n",
        "shortest = shortest_substring(s, str1, str2)\n",
        "\n",
        "print (f's: {s}\\nstr1: {str1}\\nstr2: {str2}\\n\\nres1: {res1}\\nres2: {res2}' +\n",
        "       f'\\n\\nshortest string: {shortest}')\n"
      ],
      "metadata": {
        "id": "-XrC6V6A3Cj_",
        "colab": {
          "base_uri": "https://localhost:8080/"
        },
        "outputId": "d069248e-2655-4b44-a0ed-7b9a83a6207c"
      },
      "execution_count": 35,
      "outputs": [
        {
          "output_type": "stream",
          "name": "stdout",
          "text": [
            "s: ulvprdmkcvacueufmqachsrkolpraukqiwodcotcqtavywnryybcwynlvfmihamrfuozkqdbqzugcngcxnttvmscyrhbvxpqewjk\n",
            "str1: aps\n",
            "str2: sm\n",
            "\n",
            "res1: [(18, 86), (10, 86)]\n",
            "res2: [(21, 58), (21, 62), (21, 85)]\n",
            "\n",
            "shortest string: AcueufMqAchSrkolPrAukqiwodcotcqtAvywnryybcwynlvfMihAMrfuozkqdbqzugcngcxnttvMS\n"
          ]
        }
      ]
    },
    {
      "cell_type": "code",
      "source": [
        "from timeit import default_timer as timer\n",
        "\n",
        "# substr = ''.join([chr(random.randint(97, 123)) for i in range(3)])\n",
        "# s = ''.join([chr(random.randint(97, 123)) for i in range(10)])\n",
        "\n",
        "time_ = []\n",
        "n=10000\n",
        "for length in range(0, 200, 10):\n",
        "    substr = ''.join([chr(random.randint(97, 123)) for i in range(3)])\n",
        "    s = ''.join([chr(random.randint(97, 123)) for i in range(length)])\n",
        "    sum = 0\n",
        "    for j in range(n):\n",
        "        start = timer()\n",
        "        findall_subseq(substr, s)\n",
        "        end = timer()\n",
        "        sum += end - start\n",
        "\n",
        "    time_ += [sum / n]\n",
        "    \n",
        "    # Output length = 0 ... 300, n =10:\n",
        "    # [1.5560000974801369e-06, 1.0649999239831232e-06, 1.0140000085812062e-06, 1.6931000027398112e-05, 1.0349998774472623e-06, 0.0002397380001639249, 5.4092999744170814e-05, 3.2247999843093564e-05, 5.927900019742083e-05, 5.390799960878212e-05, 9.31587997911265e-05, 9.14759997613146e-05, 6.68450000375742e-05, 0.0015902400993581978, 0.0003223170000637765, 5.569499990087934e-05, 0.00020555579976644367, 0.0003618706001361716, 0.0007777600003464613, 9.302599992224713e-05, 0.00034802600039256503, 0.0009106949999477365, 0.002949902500222379, 0.0004805419997865101, 0.46602991689978807, 0.00042647290028980934, 0.00015935600004013395, 0.0012715509998088236, 0.0002668459999767947, 11.842935129799844]"
      ],
      "metadata": {
        "id": "dQ7MdtPwXvya"
      },
      "execution_count": null,
      "outputs": []
    },
    {
      "cell_type": "code",
      "source": [
        "import matplotlib.pyplot as plt\n",
        "\n",
        "plt.plot(range(0, 300, 10)[0:20], np.log10(time_)[0:20]);"
      ],
      "metadata": {
        "colab": {
          "base_uri": "https://localhost:8080/",
          "height": 265
        },
        "id": "kfQEvOJN4-YG",
        "outputId": "d25bb24a-8bf4-481c-ca16-547d33b8b578"
      },
      "execution_count": null,
      "outputs": [
        {
          "output_type": "display_data",
          "data": {
            "text/plain": [
              "<Figure size 432x288 with 1 Axes>"
            ],
            "image/png": "[encoded data removed]"
          },
          "metadata": {
            "needs_background": "light"
          }
        }
      ]
    },
    {
      "cell_type": "code",
      "source": [
        "print(time_)"
      ],
      "metadata": {
        "colab": {
          "base_uri": "https://localhost:8080/"
        },
        "id": "VAfo_MQn9L_z",
        "outputId": "81bbe3ce-094f-4a98-e5a4-83678afddf8c"
      },
      "execution_count": null,
      "outputs": [
        {
          "output_type": "stream",
          "name": "stdout",
          "text": [
            "[1.5560000974801369e-06, 1.0649999239831232e-06, 1.0140000085812062e-06, 1.6931000027398112e-05, 1.0349998774472623e-06, 0.0002397380001639249, 5.4092999744170814e-05, 3.2247999843093564e-05, 5.927900019742083e-05, 5.390799960878212e-05, 9.31587997911265e-05, 9.14759997613146e-05, 6.68450000375742e-05, 0.0015902400993581978, 0.0003223170000637765, 5.569499990087934e-05, 0.00020555579976644367, 0.0003618706001361716, 0.0007777600003464613, 9.302599992224713e-05, 0.00034802600039256503, 0.0009106949999477365, 0.002949902500222379, 0.0004805419997865101, 0.46602991689978807, 0.00042647290028980934, 0.00015935600004013395, 0.0012715509998088236, 0.0002668459999767947, 11.842935129799844]\n"
          ]
        }
      ]
    }
  ],
  "metadata": {
    "colab": {
      "provenance": [],
      "collapsed_sections": [
        "LiW__hLW3usQ"
      ],
      "include_colab_link": true
    },
    "kernelspec": {
      "display_name": "Python 3",
      "name": "python3"
    },
    "language_info": {
      "name": "python"
    }
  },
  "nbformat": 4,
  "nbformat_minor": 0
}